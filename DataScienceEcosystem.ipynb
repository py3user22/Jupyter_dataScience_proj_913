{
 "cells": [
  {
   "cell_type": "markdown",
   "id": "3951c606-34ad-453b-816d-3cc5c82aa2af",
   "metadata": {},
   "source": [
    "# Data Science Tools and Ecosystem"
   ]
  },
  {
   "cell_type": "code",
   "execution_count": null,
   "id": "f8f029d2-6592-4fa4-86b7-016bda60520e",
   "metadata": {},
   "outputs": [],
   "source": []
  },
  {
   "cell_type": "markdown",
   "id": "64304002-15db-47fe-9de5-68148206c3b9",
   "metadata": {},
   "source": [
    "In this notebook, Data Science Tools and Ecosystem are summarized."
   ]
  },
  {
   "cell_type": "code",
   "execution_count": null,
   "id": "74903697-402e-45b2-b9de-80427f158a96",
   "metadata": {},
   "outputs": [],
   "source": []
  },
  {
   "cell_type": "markdown",
   "id": "8beb805d-1b0a-48cc-8105-b21d30ce4752",
   "metadata": {},
   "source": [
    "Some of the popular languages that Data Scientists use are:"
   ]
  },
  {
   "cell_type": "markdown",
   "id": "489653f8-dd99-4242-bfc1-1fadd01b76b6",
   "metadata": {},
   "source": [
    "1. Python\n",
    "2. R\n",
    "3. SQL\n",
    "4. Java\n",
    "5. Scala"
   ]
  },
  {
   "cell_type": "code",
   "execution_count": null,
   "id": "d047d482-f60d-4573-ad89-b620efe878d6",
   "metadata": {},
   "outputs": [],
   "source": []
  },
  {
   "cell_type": "markdown",
   "id": "4d068e69-3ddc-4f5d-80d4-9e446910cc93",
   "metadata": {},
   "source": [
    "Some of the commonly used libraries used by Data Scientists include:"
   ]
  },
  {
   "cell_type": "code",
   "execution_count": null,
   "id": "3a9cd8e7-3c3d-4142-b3c7-ee7f66630366",
   "metadata": {},
   "outputs": [],
   "source": []
  },
  {
   "cell_type": "markdown",
   "id": "e70d03bc-60ef-4743-b799-ea3d8434649f",
   "metadata": {},
   "source": [
    "1. Pandas\n",
    "2. Numpy\n",
    "3. Matplotlib\n",
    "4. Seaborn\n"
   ]
  },
  {
   "cell_type": "code",
   "execution_count": null,
   "id": "72186972-3e95-4a85-a118-ec9813011fdb",
   "metadata": {},
   "outputs": [],
   "source": []
  },
  {
   "cell_type": "markdown",
   "id": "cd1c6e7b-b48f-4fd1-ba88-2637cfa434b3",
   "metadata": {},
   "source": [
    "| Data Science Tools |\n",
    "|--------------------|\n",
    "| Pycharm |\n",
    "| Jupyter |\n",
    "| Rstudio |"
   ]
  },
  {
   "cell_type": "code",
   "execution_count": null,
   "id": "b8a2871e-4a4f-4047-a29b-dedf6f5e61ca",
   "metadata": {},
   "outputs": [],
   "source": []
  },
  {
   "cell_type": "markdown",
   "id": "7e82dad2-da56-4e92-ad0f-767252d64b0b",
   "metadata": {},
   "source": [
    "### Below are a few examples of evaluating arithmetic expressions in Python"
   ]
  },
  {
   "cell_type": "code",
   "execution_count": null,
   "id": "9caff206-6dba-4e08-b233-24b0279caa4d",
   "metadata": {},
   "outputs": [],
   "source": []
  },
  {
   "cell_type": "code",
   "execution_count": 1,
   "id": "e52fa079-6dbd-4e22-9c00-d6bac7b5bf73",
   "metadata": {},
   "outputs": [
    {
     "name": "stdout",
     "output_type": "stream",
     "text": [
      "17\n"
     ]
    }
   ],
   "source": [
    "# This a simple arithmetic expression to multiply then add integers\n",
    "b = (3*4) +5\n",
    "print(b)"
   ]
  },
  {
   "cell_type": "code",
   "execution_count": null,
   "id": "a8b9deb4-854d-40fc-ad0b-049edbd80cd9",
   "metadata": {},
   "outputs": [],
   "source": []
  },
  {
   "cell_type": "code",
   "execution_count": 3,
   "id": "25ae99a7-9181-477d-b218-276bef877cb7",
   "metadata": {},
   "outputs": [
    {
     "name": "stdout",
     "output_type": "stream",
     "text": [
      "200 minutes into hours \n",
      "-->  3.33\n"
     ]
    }
   ],
   "source": [
    "# This will convert 200 minutes to hours by dividing by 60\n",
    "convert = round(200/60, 2)\n",
    "print(\"200 minutes into hours \\n--> \", convert)"
   ]
  },
  {
   "cell_type": "code",
   "execution_count": null,
   "id": "3eed5470-8d93-4b44-a467-939ddc98afd2",
   "metadata": {},
   "outputs": [],
   "source": []
  },
  {
   "cell_type": "markdown",
   "id": "06010dfe-63b7-4643-94e6-b0f866f344e6",
   "metadata": {},
   "source": [
    "**Objectives:**"
   ]
  },
  {
   "cell_type": "code",
   "execution_count": null,
   "id": "0e3999c9-55fb-4070-af2a-6e92e2070b87",
   "metadata": {},
   "outputs": [],
   "source": []
  },
  {
   "cell_type": "markdown",
   "id": "f5ff0eea-84db-4d3e-8ddf-19b4a3935af7",
   "metadata": {},
   "source": [
    "* List popular languages for Data Science\n",
    "* List commonly used libraries for Data Science\n",
    "* Simple arithmetic expression demo\n",
    "* Convert minutes to hours simple function"
   ]
  },
  {
   "cell_type": "code",
   "execution_count": null,
   "id": "301b11e5-f3e4-4727-8f6a-3f75d830c61e",
   "metadata": {},
   "outputs": [],
   "source": []
  },
  {
   "cell_type": "markdown",
   "id": "ddf01b1e-ef82-4e17-b7df-cedcb5308f24",
   "metadata": {},
   "source": [
    "## Author\n",
    "Jesus Gomez @091325"
   ]
  },
  {
   "cell_type": "code",
   "execution_count": null,
   "id": "399b0dc8-130c-40d0-815e-a18ea3e15236",
   "metadata": {},
   "outputs": [],
   "source": []
  },
  {
   "cell_type": "code",
   "execution_count": null,
   "id": "6af5accd-439e-4a9e-804a-1a2e86d33a71",
   "metadata": {},
   "outputs": [],
   "source": []
  }
 ],
 "metadata": {
  "kernelspec": {
   "display_name": "Python 3 (ipykernel)",
   "language": "python",
   "name": "python3"
  },
  "language_info": {
   "codemirror_mode": {
    "name": "ipython",
    "version": 3
   },
   "file_extension": ".py",
   "mimetype": "text/x-python",
   "name": "python",
   "nbconvert_exporter": "python",
   "pygments_lexer": "ipython3",
   "version": "3.12.3"
  }
 },
 "nbformat": 4,
 "nbformat_minor": 5
}
